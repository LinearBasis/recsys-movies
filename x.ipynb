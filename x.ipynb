{
 "cells": [
  {
   "cell_type": "code",
   "execution_count": 9,
   "metadata": {},
   "outputs": [],
   "source": [
    "import lightfm\n",
    "from lightfm.data import Dataset\n"
   ]
  },
  {
   "cell_type": "code",
   "execution_count": 13,
   "metadata": {},
   "outputs": [],
   "source": [
    "import pandas as pd\n",
    "import numpy as np"
   ]
  },
  {
   "cell_type": "code",
   "execution_count": 14,
   "metadata": {},
   "outputs": [],
   "source": [
    "events = pd.read_csv(\"events.csv\")\n",
    "items_features_data = pd.read_csv(\"item_features.csv\")\n",
    "user_features_data = pd.read_csv(\"user_features.csv\").sort_values(by=\"user_id\", axis=0).reset_index(drop=True)\n",
    "\n"
   ]
  },
  {
   "cell_type": "code",
   "execution_count": 15,
   "metadata": {},
   "outputs": [],
   "source": [
    "bins = [0, 6, 12, 18, 30, 60]\n",
    "\n",
    "user_features_data['binned'] = np.searchsorted(bins, user_features_data['age'].values)\n",
    "# df['binned'] = np.searchsorted(bins, df['percentage'].values)\n"
   ]
  },
  {
   "cell_type": "code",
   "execution_count": null,
   "metadata": {},
   "outputs": [],
   "source": []
  },
  {
   "cell_type": "code",
   "execution_count": 17,
   "metadata": {},
   "outputs": [],
   "source": [
    "import lightfm\n",
    "from lightfm.data import Dataset\n"
   ]
  },
  {
   "cell_type": "code",
   "execution_count": 49,
   "metadata": {},
   "outputs": [],
   "source": [
    "all_features = {'1', '2', '3', '4', '5', 'F', 'M'}"
   ]
  },
  {
   "cell_type": "code",
   "execution_count": 50,
   "metadata": {},
   "outputs": [],
   "source": [
    "dataset = Dataset()\n",
    "dataset.fit(\n",
    "    users=user_features_data[\"user_id\"].to_list(),\n",
    "    items=items_features_data[\"item_id\"].to_list(),\n",
    "    user_features=list(all_features),\n",
    "    item_features=items_features_data.columns[1:]\n",
    ")\n"
   ]
  },
  {
   "cell_type": "code",
   "execution_count": 51,
   "metadata": {},
   "outputs": [],
   "source": [
    "v = user_features_data[[\"user_id\", \"gender\", \"binned\"]].values\n",
    "prepared = []\n",
    "for i in v:\n",
    "    prepared.append( (i[0], [i[1], i[2]]) )\n",
    "lightfm_user_features = dataset.build_user_features(prepared)"
   ]
  },
  {
   "cell_type": "code",
   "execution_count": 54,
   "metadata": {},
   "outputs": [],
   "source": [
    "item_features = []\n",
    "for x in items_features_data.iloc:\n",
    "    temp_res = []\n",
    "    for i, value in enumerate(x[1:]):\n",
    "        if value != 0:\n",
    "            temp_res.append(f\"genre_{i}\")\n",
    "    item_features.append([x.to_list()[0], temp_res])\n",
    "lightfm_item_features = dataset.build_item_features(item_features)\n"
   ]
  },
  {
   "cell_type": "code",
   "execution_count": 58,
   "metadata": {},
   "outputs": [],
   "source": [
    "(interactions, weights) = dataset.build_interactions(\n",
    "    [x['user_id'], x['item_id'], x['rating']] for x in events.iloc\n",
    ")\n"
   ]
  },
  {
   "cell_type": "code",
   "execution_count": 60,
   "metadata": {},
   "outputs": [
    {
     "name": "stderr",
     "output_type": "stream",
     "text": [
      "Epoch:   0%|          | 0/100 [00:00<?, ?it/s]"
     ]
    },
    {
     "name": "stderr",
     "output_type": "stream",
     "text": [
      "Epoch: 100%|██████████| 100/100 [02:09<00:00,  1.29s/it]\n"
     ]
    },
    {
     "data": {
      "text/plain": [
       "<lightfm.lightfm.LightFM at 0x79639821c880>"
      ]
     },
     "execution_count": 60,
     "metadata": {},
     "output_type": "execute_result"
    }
   ],
   "source": [
    "from lightfm import LightFM\n",
    "\n",
    "model = LightFM(\n",
    "    no_components=20,\n",
    "    loss=\"warp\",\n",
    "    learning_rate=2e-2,\n",
    "    learning_schedule='adagrad',\n",
    "    random_state=42,\n",
    "    # k=15\n",
    ")\n",
    "model.fit(\n",
    "    interactions=interactions,\n",
    "    sample_weight=weights,\n",
    "    item_features=lightfm_item_features,\n",
    "    user_features=lightfm_user_features,\n",
    "    verbose=True,\n",
    "    epochs=100, # ? хз\n",
    "    num_threads=20,\n",
    ")\n"
   ]
  },
  {
   "cell_type": "code",
   "execution_count": 69,
   "metadata": {},
   "outputs": [
    {
     "data": {
      "text/plain": [
       "array([   0,    1,    2, ..., 3703, 3704, 3705])"
      ]
     },
     "execution_count": 69,
     "metadata": {},
     "output_type": "execute_result"
    }
   ],
   "source": []
  },
  {
   "cell_type": "code",
   "execution_count": 73,
   "metadata": {},
   "outputs": [],
   "source": [
    "def _prepare_user_item_pairs(\n",
    "    cnum_ids: list[int],\n",
    "    product_ids: list[int],\n",
    ") -> (list[int], list[int]):\n",
    "    num_products = len(product_ids)\n",
    "\n",
    "    users, items = [], []\n",
    "    for cnum_id in cnum_ids:\n",
    "        users.extend([cnum_id] * num_products)\n",
    "        items.extend(product_ids)\n",
    "\n",
    "    return users, items\n"
   ]
  },
  {
   "cell_type": "code",
   "execution_count": 83,
   "metadata": {},
   "outputs": [],
   "source": [
    "is_in_interaction = set()\n",
    "for i in events.values:\n",
    "    is_in_interaction.add((i[0], i[1]))"
   ]
  },
  {
   "cell_type": "code",
   "execution_count": 85,
   "metadata": {},
   "outputs": [],
   "source": [
    "user_id_for_predict = []\n",
    "item_id_for_predict = []\n",
    "for i in user_features_data.user_id.values:\n",
    "    for j in items_features_data.item_id.values:\n",
    "        if (i, j) in is_in_interaction:\n",
    "            continue\n",
    "        user_id_for_predict.append(i)\n",
    "        item_id_for_predict.append(j)"
   ]
  },
  {
   "cell_type": "code",
   "execution_count": 89,
   "metadata": {},
   "outputs": [],
   "source": [
    "predictions = model.predict(user_id_for_predict,\n",
    "                            item_id_for_predict,\n",
    "                            user_features=lightfm_user_features,\n",
    "                            item_features=lightfm_item_features)\n"
   ]
  },
  {
   "cell_type": "code",
   "execution_count": 136,
   "metadata": {},
   "outputs": [],
   "source": [
    "# from collections import defaultdict\n",
    "\n",
    "values = defaultdict(list)\n",
    "for rating, us, it in zip(predictions, user_id_for_predict, item_id_for_predict):\n",
    "    values[us].append( (it, rating) )\n",
    "\n",
    "new_values = dict()\n",
    "for i in user_id_for_predict:\n",
    "    values[i] = sorted(values[i], key=lambda x : -x[1])\n",
    "    values[i] = values[i][:10]\n",
    "    new_values[i] = \" \".join([str(j[0]) for j in values[i]]) \n"
   ]
  },
  {
   "cell_type": "code",
   "execution_count": 139,
   "metadata": {},
   "outputs": [],
   "source": [
    "df_ans = pd.DataFrame()\n",
    "\n",
    "df_ans['user_id'] = list(new_values.keys())\n",
    "df_ans['item_id'] = list(new_values.values())\n",
    "\n",
    "df_ans.set_index(\"user_id\").to_csv(\"x.csv\")"
   ]
  }
 ],
 "metadata": {
  "kernelspec": {
   "display_name": "train-3-10",
   "language": "python",
   "name": "python3"
  },
  "language_info": {
   "codemirror_mode": {
    "name": "ipython",
    "version": 3
   },
   "file_extension": ".py",
   "mimetype": "text/x-python",
   "name": "python",
   "nbconvert_exporter": "python",
   "pygments_lexer": "ipython3",
   "version": "3.10.14"
  }
 },
 "nbformat": 4,
 "nbformat_minor": 2
}
